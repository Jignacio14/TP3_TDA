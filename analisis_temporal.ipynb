{
 "cells": [
  {
   "cell_type": "code",
   "execution_count": 48,
   "metadata": {},
   "outputs": [],
   "source": [
    "import tp3\n",
    "import seaborn as sns\n",
    "import matplotlib.pyplot as plt\n",
    "import random\n",
    "import pandas as pd\n",
    "from faker import Faker\n",
    "import time "
   ]
  },
  {
   "cell_type": "code",
   "execution_count": 49,
   "metadata": {},
   "outputs": [],
   "source": [
    "LONG_A = 100"
   ]
  },
  {
   "cell_type": "code",
   "execution_count": 50,
   "metadata": {},
   "outputs": [],
   "source": [
    "fake = Faker()\n",
    "nombres_aleatorios = set()\n",
    "nombres_aleatorios_list  = []\n",
    "while len(nombres_aleatorios) < LONG_A:\n",
    "    nombre = fake.name()\n",
    "    nombres_aleatorios.add(nombre)\n",
    "\n",
    "nombres_aleatorios_list = list(nombres_aleatorios)"
   ]
  },
  {
   "cell_type": "code",
   "execution_count": 51,
   "metadata": {},
   "outputs": [],
   "source": [
    "subsets = []\n",
    "for i in range(LONG_A): \n",
    "    subset = []\n",
    "    for j in range(i): \n",
    "        new_set = set()\n",
    "        for k in range(random.randint(1, 10)):\n",
    "            pos = random.randint(1, LONG_A - 1)\n",
    "            new_set.add(nombres_aleatorios_list[pos])\n",
    "        subset.append(new_set)\n",
    "    subsets.append(subset)"
   ]
  },
  {
   "cell_type": "code",
   "execution_count": 52,
   "metadata": {},
   "outputs": [],
   "source": [
    "times = pd.DataFrame()"
   ]
  },
  {
   "cell_type": "code",
   "execution_count": 53,
   "metadata": {},
   "outputs": [],
   "source": [
    "def calcular_tiempos(subsets, funcion, a):\n",
    "    \n",
    "    time_list = []  # Rename 'time' to avoid conflicts with the time module\n",
    "    lengths = []    # Use a different name for the list of lengths\n",
    "\n",
    "    for i in range(len(subsets)):\n",
    "        lengths.append(i)\n",
    "        start_time = time.time()\n",
    "        funcion(subsets[i], a)\n",
    "        end_time = time.time()\n",
    "        elapsed_time = end_time - start_time\n",
    "        time_list.append(elapsed_time)"
   ]
  },
  {
   "cell_type": "code",
   "execution_count": 54,
   "metadata": {},
   "outputs": [],
   "source": [
    "tiempos_backtracking, len_backtracking = calcular_tiempos(subsets, tp3.search_for_min_hitting_set, nombres_aleatorios)"
   ]
  },
  {
   "cell_type": "code",
   "execution_count": null,
   "metadata": {},
   "outputs": [],
   "source": [
    "print(tiempos_backtracking)"
   ]
  },
  {
   "cell_type": "code",
   "execution_count": null,
   "metadata": {},
   "outputs": [],
   "source": []
  }
 ],
 "metadata": {
  "kernelspec": {
   "display_name": "Python 3",
   "language": "python",
   "name": "python3"
  },
  "language_info": {
   "codemirror_mode": {
    "name": "ipython",
    "version": 3
   },
   "file_extension": ".py",
   "mimetype": "text/x-python",
   "name": "python",
   "nbconvert_exporter": "python",
   "pygments_lexer": "ipython3",
   "version": "3.12.0"
  }
 },
 "nbformat": 4,
 "nbformat_minor": 2
}
